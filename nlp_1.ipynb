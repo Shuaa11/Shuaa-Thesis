{
 "cells": [
  {
   "cell_type": "code",
   "execution_count": 3,
   "id": "ee18b37d",
   "metadata": {},
   "outputs": [
    {
     "name": "stderr",
     "output_type": "stream",
     "text": [
      "[nltk_data] Downloading package movie_reviews to\n",
      "[nltk_data]     /Users/shahzore/nltk_data...\n",
      "[nltk_data]   Package movie_reviews is already up-to-date!\n"
     ]
    }
   ],
   "source": [
    "# Importing the required libraries\n",
    "import pandas as pd\n",
    "import datetime\n",
    "from nltk.corpus import stopwords\n",
    "from nltk.stem import PorterStemmer\n",
    "from sklearn.model_selection import train_test_split\n",
    "from sklearn.feature_extraction.text import TfidfVectorizer\n",
    "from sklearn.naive_bayes import MultinomialNB\n",
    "from sklearn import metrics\n",
    "import re\n",
    "from nltk.stem import WordNetLemmatizer\n",
    "import nltk\n",
    "import nltk.classify.util\n",
    "from nltk.corpus import movie_reviews\n",
    "nltk.download('movie_reviews')\n",
    "from nltk import everygrams\n",
    "from nltk.classify import NaiveBayesClassifier\n",
    "from nltk.tokenize import word_tokenize\n",
    "import matplotlib.pyplot as plt\n",
    "from sklearn.model_selection import train_test_split, cross_val_score\n",
    "from sklearn.utils import shuffle"
   ]
  },
  {
   "cell_type": "code",
   "execution_count": 4,
   "id": "4399889b",
   "metadata": {},
   "outputs": [],
   "source": [
    "news = pd.read_csv('Crypto-News-Data.csv')\n",
    "data = pd.read_csv('BTC-Historical.csv')"
   ]
  },
  {
   "cell_type": "code",
   "execution_count": 5,
   "id": "3784392f",
   "metadata": {},
   "outputs": [
    {
     "name": "stderr",
     "output_type": "stream",
     "text": [
      "/var/folders/zp/_k9nqs1d73z4ggg7m72n70gc0000gn/T/ipykernel_48590/2173652800.py:12: SettingWithCopyWarning: \n",
      "A value is trying to be set on a copy of a slice from a DataFrame\n",
      "\n",
      "See the caveats in the documentation: https://pandas.pydata.org/pandas-docs/stable/user_guide/indexing.html#returning-a-view-versus-a-copy\n",
      "  news['Change'][ind]=\"Positive\"\n",
      "/var/folders/zp/_k9nqs1d73z4ggg7m72n70gc0000gn/T/ipykernel_48590/2173652800.py:10: SettingWithCopyWarning: \n",
      "A value is trying to be set on a copy of a slice from a DataFrame\n",
      "\n",
      "See the caveats in the documentation: https://pandas.pydata.org/pandas-docs/stable/user_guide/indexing.html#returning-a-view-versus-a-copy\n",
      "  news['Change'][ind]=\"Negative\"\n"
     ]
    }
   ],
   "source": [
    "news['Change'] = pd.Series(dtype='object')\n",
    "\n",
    "area_dict = dict(zip(data['Date'], data['Change %']))\n",
    "\n",
    "for ind in news.index:\n",
    "    date1= datetime.datetime.strptime(news['Date'][ind], \"%b %d, %Y\")\n",
    "    date1 += datetime.timedelta(days=1)\n",
    "    date2= date1.strftime(\"%b %d, %Y\")\n",
    "    if area_dict.get(date2).startswith(\"-\"):\n",
    "        news['Change'][ind]=\"Negative\"\n",
    "    else:\n",
    "        news['Change'][ind]=\"Positive\""
   ]
  },
  {
   "cell_type": "code",
   "execution_count": 7,
   "id": "ff954b27",
   "metadata": {},
   "outputs": [
    {
     "name": "stdout",
     "output_type": "stream",
     "text": [
      "      Unnamed: 0                                              Title  \\\n",
      "0              0  Goldman Sachs Executes Bank's First OTC Crypto...   \n",
      "1              1  Bitcoin, Ethereum Technical Analysis: ETH Stay...   \n",
      "2              2  Terra Founder Hints at $3 Billion BTC Purchase...   \n",
      "3              3  Bitcoin-Friendly Portugal Welcomes Refugees Fr...   \n",
      "4              4  Prince Philip of Serbia: Bitcoin Is Freedom — ...   \n",
      "...          ...                                                ...   \n",
      "1005        1005  S&P Launches Bitcoin, Ethereum, and 'Crypto Me...   \n",
      "1006        1006  Spanish Healthcare Group to Accept Cryptocurre...   \n",
      "1007        1007  Blockchain-Based Gaming Illuvium (ILV) Token I...   \n",
      "1008        1008  Gold Bug vs. Bitcoin Bug: A Look at the Curiou...   \n",
      "1009        1009  Bitcoin Miners Start Signaling for Taproot Act...   \n",
      "\n",
      "              Date                                               Info  \\\n",
      "0     Mar 21, 2022  On Monday, the multinational investment bank a...   \n",
      "1     Mar 21, 2022  Ethereum remained above $2,900 to start the we...   \n",
      "2     Mar 21, 2022  Terra founder Do Kwon hinted at a future purch...   \n",
      "3     Mar 21, 2022  With a war raging in their homeland, thousands...   \n",
      "4     Mar 20, 2022  Prince Philip of Serbia and Yugoslavia says th...   \n",
      "...            ...                                                ...   \n",
      "1005   May 4, 2021  S&P Global, the parent company of S&P Dow Jone...   \n",
      "1006   May 4, 2021  Cryptocurrency regulation is still an ongoing ...   \n",
      "1007   May 3, 2021  PRESS RELEASE. Bitcoin.com Exchange is thrille...   \n",
      "1008   May 3, 2021  For years now the well known economist and gol...   \n",
      "1009   May 3, 2021  Bitcoin miners have started to signal for Tapr...   \n",
      "\n",
      "        Change  \n",
      "0     Positive  \n",
      "1     Positive  \n",
      "2     Positive  \n",
      "3     Positive  \n",
      "4     Negative  \n",
      "...        ...  \n",
      "1005  Positive  \n",
      "1006  Positive  \n",
      "1007  Negative  \n",
      "1008  Negative  \n",
      "1009  Negative  \n",
      "\n",
      "[1010 rows x 5 columns]\n"
     ]
    }
   ],
   "source": [
    "print(news)"
   ]
  },
  {
   "cell_type": "code",
   "execution_count": 8,
   "id": "77c5d5f8",
   "metadata": {},
   "outputs": [],
   "source": [
    "#Step 3 : Preprocessing the text\n",
    "lemmatizer = WordNetLemmatizer()\n",
    "words = stopwords.words(\"english\")\n",
    "\n",
    "news['processedtext'] = news['Info'].apply(lambda x: \" \".join([lemmatizer.lemmatize(i) for i in re.sub(\"[^a-zA-Z]\", \" \", x).split() if i not in words]).lower())"
   ]
  },
  {
   "cell_type": "code",
   "execution_count": 10,
   "id": "07a3837c",
   "metadata": {},
   "outputs": [
    {
     "name": "stdout",
     "output_type": "stream",
     "text": [
      "(1010, 6)\n"
     ]
    },
    {
     "data": {
      "text/plain": [
       "0    on monday multinational investment bank financ...\n",
       "Name: processedtext, dtype: object"
      ]
     },
     "execution_count": 10,
     "metadata": {},
     "output_type": "execute_result"
    }
   ],
   "source": [
    "print(news.shape)\n",
    "news.head(1).processedtext"
   ]
  },
  {
   "cell_type": "code",
   "execution_count": 11,
   "id": "e352d303",
   "metadata": {},
   "outputs": [
    {
     "name": "stdout",
     "output_type": "stream",
     "text": [
      "The average is 0.5495049504950488\n"
     ]
    }
   ],
   "source": [
    "#Step 4: Creating the training and test datasets\n",
    "from sklearn.naive_bayes import GaussianNB\n",
    "from sklearn.feature_extraction.text import CountVectorizer\n",
    "acc=[]\n",
    "\n",
    "# print(words)\n",
    "cv = CountVectorizer(max_features = 1500)\n",
    " \n",
    "X = cv.fit_transform( news['processedtext'])\n",
    "X = X.toarray()\n",
    "y = news['Change']\n",
    "for j in range(1000):\n",
    "    X_train, X_test, y_train, y_test = train_test_split(X, y, test_size=0.2, random_state=i)\n",
    "\n",
    "    #     print(news.shape); print(X_train.shape); print(X_test.shape)\n",
    "\n",
    "    #Step 5 : Converting Text to Word Frequency Vectors with TfidfVectorizer\n",
    "\n",
    "\n",
    "    #     print(vectorizer_tfidf.get_feature_names()[:10])\n",
    "    #     print(train_tfIdf.shape); print(test_tfIdf.shape)\n",
    "\n",
    "    # Step 6: Create and Fit the Classifier.\n",
    "    nb_classifier = GaussianNB();\n",
    "\n",
    "    nb_classifier.fit(X_train, y_train)\n",
    "\n",
    "    pred2 = nb_classifier.predict(X_test) \n",
    "\n",
    "    for i in range(pred2.shape[0]):\n",
    "        if pred2[i] == \"Negative\":\n",
    "            pred2[i] = \"Positive\"\n",
    "        else:\n",
    "            pred2[i] = \"Negative\"\n",
    "    #     print(pred2[:100])\n",
    "    accuracy_tfidf = metrics.accuracy_score(y_test, pred2)\n",
    "    #     print(accu/racy_tfidf)\n",
    "    acc.append(accuracy_tfidf)\n",
    "    \n",
    "print(\"The average is\", sum(acc)/len(acc))"
   ]
  },
  {
   "cell_type": "code",
   "execution_count": null,
   "id": "78100801",
   "metadata": {},
   "outputs": [],
   "source": []
  },
  {
   "cell_type": "code",
   "execution_count": null,
   "id": "87709f36",
   "metadata": {},
   "outputs": [],
   "source": []
  },
  {
   "cell_type": "code",
   "execution_count": null,
   "id": "b17c2b25",
   "metadata": {},
   "outputs": [],
   "source": []
  },
  {
   "cell_type": "code",
   "execution_count": null,
   "id": "56cc94d3",
   "metadata": {},
   "outputs": [],
   "source": []
  },
  {
   "cell_type": "code",
   "execution_count": null,
   "id": "b5057cbd",
   "metadata": {},
   "outputs": [],
   "source": []
  }
 ],
 "metadata": {
  "kernelspec": {
   "display_name": "Python 3 (ipykernel)",
   "language": "python",
   "name": "python3"
  },
  "language_info": {
   "codemirror_mode": {
    "name": "ipython",
    "version": 3
   },
   "file_extension": ".py",
   "mimetype": "text/x-python",
   "name": "python",
   "nbconvert_exporter": "python",
   "pygments_lexer": "ipython3",
   "version": "3.9.7"
  }
 },
 "nbformat": 4,
 "nbformat_minor": 5
}
